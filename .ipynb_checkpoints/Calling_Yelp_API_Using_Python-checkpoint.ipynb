{
 "cells": [
  {
   "cell_type": "code",
   "execution_count": 68,
   "id": "de7c1119",
   "metadata": {},
   "outputs": [],
   "source": [
    "import requests\n",
    "import pandas as pd"
   ]
  },
  {
   "cell_type": "markdown",
   "id": "0fb92b1c",
   "metadata": {},
   "source": [
    "# we can copy the Yelp API key and assign it to a variable api_key"
   ]
  },
  {
   "cell_type": "code",
   "execution_count": 3,
   "id": "8348e495",
   "metadata": {},
   "outputs": [],
   "source": [
    "api_key=\"2txZ5-GVWhkZh4Oo4tjJJv7NF9mORWUQMjyGZg27Fbv_3xeVTCEuMpCfp2FNw9FNVdT46I05Em9UiviVQD2T8ovcZqqbmVSTm_UPnhjkE53v8HdwG9J8NAmDLou9Y3Yx\""
   ]
  },
  {
   "cell_type": "code",
   "execution_count": 4,
   "id": "de7e52f7",
   "metadata": {},
   "outputs": [],
   "source": [
    "# Using the yelp business search API: https://www.yelp.com/developers/documentation/v3/business_search\n",
    "\n",
    "# headers contain the api key.\n",
    "headers = {'Authorization': 'Bearer {}'.format(api_key)}\n",
    "search_api_url = 'https://api.yelp.com/v3/businesses/search'\n",
    "params = {'term': 'coffee', \n",
    "          'location': 'Toronto, Ontario',\n",
    "          'limit': 50}\n",
    " "
   ]
  },
  {
   "cell_type": "code",
   "execution_count": 5,
   "id": "4467e60a",
   "metadata": {},
   "outputs": [],
   "source": [
    "# timeout of 5 seconds: https://requests.readthedocs.io/en/master/user/quickstart/#timeouts\n",
    "response = requests.get(search_api_url, headers=headers, params=params, timeout=5)"
   ]
  },
  {
   "cell_type": "code",
   "execution_count": 56,
   "id": "ec7aa8b1",
   "metadata": {},
   "outputs": [
    {
     "name": "stdout",
     "output_type": "stream",
     "text": [
      "https://api.yelp.com/v3/businesses/search?term=coffee&location=Toronto%2C+Ontario&limit=50\n",
      "200\n"
     ]
    }
   ],
   "source": [
    "# To take a look at the URL and the response object’s status\n",
    "print(response.url)\n",
    "print(response.status_code)"
   ]
  },
  {
   "cell_type": "code",
   "execution_count": 97,
   "id": "176cd2a5",
   "metadata": {},
   "outputs": [
    {
     "name": "stdout",
     "output_type": "stream",
     "text": [
      "{'Connection': 'keep-alive', 'content-type': 'application/json', 'x-zipkin-id': '5b4eb371f094cdc8', 'x-routing-service': 'routing-main--useast1-d5bffcc66-zng7l; site=public_api_v3', 'ratelimit-dailylimit': '5000', 'ratelimit-remaining': '5000', 'ratelimit-resettime': '2023-01-12T00:00:00+00:00', 'x-b3-sampled': '0', 'server': 'envoy', 'x-cloudmap': 'routing_useast1', 'x-mode': 'ro', 'x-proxied': '10-65-175-143-useast1bprod', 'content-encoding': 'gzip', 'x-extlb': '10-65-175-143-useast1bprod', 'cache-control': 'max-age=0, no-store, private, no-transform', 'Accept-Ranges': 'bytes', 'Date': 'Wed, 11 Jan 2023 17:34:40 GMT', 'Via': '1.1 varnish', 'X-Served-By': 'cache-ewr18136-EWR', 'X-Cache': 'MISS', 'X-Cache-Hits': '0', 'Vary': 'Accept-Encoding', 'transfer-encoding': 'chunked'}\n"
     ]
    }
   ],
   "source": [
    "# to check the response\n",
    "print(response.headers)"
   ]
  },
  {
   "cell_type": "code",
   "execution_count": 8,
   "id": "e1811b20",
   "metadata": {},
   "outputs": [],
   "source": [
    "#Converting response in dictionary\n",
    "data_dict=response.json()"
   ]
  },
  {
   "cell_type": "code",
   "execution_count": 9,
   "id": "3a09cb40",
   "metadata": {},
   "outputs": [
    {
     "data": {
      "text/plain": [
       "dict"
      ]
     },
     "execution_count": 9,
     "metadata": {},
     "output_type": "execute_result"
    }
   ],
   "source": [
    "#Checking type of the return data\n",
    "type(data_dict)"
   ]
  },
  {
   "cell_type": "code",
   "execution_count": 101,
   "id": "7631e9e0",
   "metadata": {
    "scrolled": true
   },
   "outputs": [
    {
     "data": {
      "text/plain": [
       "dict_keys(['businesses', 'total', 'region'])"
      ]
     },
     "execution_count": 101,
     "metadata": {},
     "output_type": "execute_result"
    }
   ],
   "source": [
    "#What are main keys?\n",
    "data_dict.keys()"
   ]
  },
  {
   "cell_type": "code",
   "execution_count": 104,
   "id": "4914a8ed",
   "metadata": {},
   "outputs": [
    {
     "name": "stdout",
     "output_type": "stream",
     "text": [
      "<class 'list'>\n",
      "<class 'dict'>\n"
     ]
    }
   ],
   "source": [
    "#Businesses is a list of dictionaries and each individual dictionary represent a business\n",
    "print (type(data_dict['businesses']) )\n",
    "print (type(data_dict['businesses'][0]) )"
   ]
  },
  {
   "cell_type": "code",
   "execution_count": 11,
   "id": "bf633db0",
   "metadata": {},
   "outputs": [
    {
     "data": {
      "text/plain": [
       "{'id': 'b9Ctxco-1HyjE55W_28MYA',\n",
       " 'alias': 'himalayan-coffee-house-toronto-2',\n",
       " 'name': 'Himalayan Coffee House',\n",
       " 'image_url': 'https://s3-media4.fl.yelpcdn.com/bphoto/pdZXiBAwPgXOgkzMXO9kgQ/o.jpg',\n",
       " 'is_closed': False,\n",
       " 'url': 'https://www.yelp.com/biz/himalayan-coffee-house-toronto-2?adjust_creative=V0o2j3ytyMMUE-fB7S4BTQ&utm_campaign=yelp_api_v3&utm_medium=api_v3_business_search&utm_source=V0o2j3ytyMMUE-fB7S4BTQ',\n",
       " 'review_count': 154,\n",
       " 'categories': [{'alias': 'coffee', 'title': 'Coffee & Tea'}],\n",
       " 'rating': 4.5,\n",
       " 'coordinates': {'latitude': 43.71336, 'longitude': -79.4},\n",
       " 'transactions': [],\n",
       " 'price': '$',\n",
       " 'location': {'address1': '2552 Yonge Street',\n",
       "  'address2': '',\n",
       "  'address3': '',\n",
       "  'city': 'Toronto',\n",
       "  'zip_code': 'M4P 2J2',\n",
       "  'country': 'CA',\n",
       "  'state': 'ON',\n",
       "  'display_address': ['2552 Yonge Street', 'Toronto, ON M4P 2J2', 'Canada']},\n",
       " 'phone': '+14164856464',\n",
       " 'display_phone': '+1 416-485-6464',\n",
       " 'distance': 1954.9169469231715}"
      ]
     },
     "execution_count": 11,
     "metadata": {},
     "output_type": "execute_result"
    }
   ],
   "source": [
    "#what is first business? \n",
    "data_dict['businesses'][0]"
   ]
  },
  {
   "cell_type": "code",
   "execution_count": 92,
   "id": "8c259566",
   "metadata": {},
   "outputs": [],
   "source": [
    "df=pd.Series((data_dict['businesses'][0]))"
   ]
  },
  {
   "cell_type": "code",
   "execution_count": 1,
   "id": "87a3fcf6",
   "metadata": {},
   "outputs": [
    {
     "ename": "NameError",
     "evalue": "name 'df' is not defined",
     "output_type": "error",
     "traceback": [
      "\u001b[1;31m---------------------------------------------------------------------------\u001b[0m",
      "\u001b[1;31mNameError\u001b[0m                                 Traceback (most recent call last)",
      "\u001b[1;32m~\\AppData\\Local\\Temp\\ipykernel_14872\\1093298923.py\u001b[0m in \u001b[0;36m<module>\u001b[1;34m\u001b[0m\n\u001b[1;32m----> 1\u001b[1;33m \u001b[0mprint\u001b[0m\u001b[1;33m(\u001b[0m\u001b[0mdf\u001b[0m\u001b[1;33m)\u001b[0m\u001b[1;33m\u001b[0m\u001b[1;33m\u001b[0m\u001b[0m\n\u001b[0m",
      "\u001b[1;31mNameError\u001b[0m: name 'df' is not defined"
     ]
    }
   ],
   "source": [
    "print(df)\n"
   ]
  },
  {
   "cell_type": "markdown",
   "id": "c101d93e",
   "metadata": {},
   "source": [
    "# Doing another API request to find Cafes in NYC"
   ]
  },
  {
   "cell_type": "code",
   "execution_count": null,
   "id": "384ea4e4",
   "metadata": {},
   "outputs": [],
   "source": [
    "# Create dictionary to query API for cafes in NYC\n",
    "parameters = {'term':'cafe',\n",
    "          \t  'location':'NYC'}\n"
   ]
  }
 ],
 "metadata": {
  "kernelspec": {
   "display_name": "Python 3 (ipykernel)",
   "language": "python",
   "name": "python3"
  },
  "language_info": {
   "codemirror_mode": {
    "name": "ipython",
    "version": 3
   },
   "file_extension": ".py",
   "mimetype": "text/x-python",
   "name": "python",
   "nbconvert_exporter": "python",
   "pygments_lexer": "ipython3",
   "version": "3.9.13"
  }
 },
 "nbformat": 4,
 "nbformat_minor": 5
}
