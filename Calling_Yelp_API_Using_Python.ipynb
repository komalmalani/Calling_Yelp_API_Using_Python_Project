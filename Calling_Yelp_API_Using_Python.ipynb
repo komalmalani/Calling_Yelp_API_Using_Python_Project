{
 "cells": [
  {
   "cell_type": "code",
   "execution_count": 3,
   "id": "de7c1119",
   "metadata": {},
   "outputs": [],
   "source": [
    "import requests\n",
    "import pandas as pd"
   ]
  },
  {
   "cell_type": "markdown",
   "id": "0fb92b1c",
   "metadata": {},
   "source": [
    "# we can copy the Yelp API key and assign it to a variable api_key"
   ]
  },
  {
   "cell_type": "code",
   "execution_count": 4,
   "id": "8348e495",
   "metadata": {},
   "outputs": [],
   "source": [
    "api_key=\"****\""
   ]
  },
  {
   "cell_type": "code",
   "execution_count": 5,
   "id": "de7e52f7",
   "metadata": {},
   "outputs": [],
   "source": [
    "# Using the yelp business search API: https://www.yelp.com/developers/documentation/v3/business_search\n",
    "\n",
    "# headers contain the api key.\n",
    "headers = {'Authorization': 'Bearer {}'.format(api_key)}\n",
    "search_api_url = 'https://api.yelp.com/v3/businesses/search'\n",
    "params = {'term': 'coffee', \n",
    "          'location': 'Toronto, Ontario',\n",
    "          'limit': 50}\n",
    " "
   ]
  },
  {
   "cell_type": "code",
   "execution_count": 6,
   "id": "4467e60a",
   "metadata": {},
   "outputs": [],
   "source": [
    "# timeout of 5 seconds: https://requests.readthedocs.io/en/master/user/quickstart/#timeouts\n",
    "response = requests.get(search_api_url, headers=headers, params=params, timeout=5)"
   ]
  },
  {
   "cell_type": "code",
   "execution_count": 7,
   "id": "ec7aa8b1",
   "metadata": {},
   "outputs": [
    {
     "name": "stdout",
     "output_type": "stream",
     "text": [
      "https://api.yelp.com/v3/businesses/search?term=coffee&location=Toronto%2C+Ontario&limit=50\n",
      "200\n"
     ]
    }
   ],
   "source": [
    "# To take a look at the URL and the response object’s status\n",
    "print(response.url)\n",
    "print(response.status_code)"
   ]
  },
  {
   "cell_type": "code",
   "execution_count": 8,
   "id": "176cd2a5",
   "metadata": {},
   "outputs": [
    {
     "name": "stdout",
     "output_type": "stream",
     "text": [
      "{'Connection': 'keep-alive', 'content-type': 'application/json', 'ratelimit-dailylimit': '5000', 'server': 'envoy', 'ratelimit-remaining': '5000', 'x-b3-sampled': '0', 'x-routing-service': 'routing-main--useast1-5c95747677-h9kw4; site=public_api_v3', 'ratelimit-resettime': '2023-01-20T00:00:00+00:00', 'x-zipkin-id': '038dfc6ddd9a713a', 'x-cloudmap': 'routing_useast1', 'x-mode': 'ro', 'x-proxied': '10-65-75-6-useast1aprod', 'content-encoding': 'gzip', 'x-extlb': '10-65-75-6-useast1aprod', 'cache-control': 'max-age=0, no-store, private, no-transform', 'Accept-Ranges': 'bytes', 'Date': 'Thu, 19 Jan 2023 19:15:36 GMT', 'Via': '1.1 varnish', 'X-Served-By': 'cache-ewr18174-EWR', 'X-Cache': 'MISS', 'X-Cache-Hits': '0', 'Vary': 'Accept-Encoding', 'transfer-encoding': 'chunked'}\n"
     ]
    }
   ],
   "source": [
    "# to check the response\n",
    "print(response.headers)"
   ]
  },
  {
   "cell_type": "code",
   "execution_count": 9,
   "id": "e1811b20",
   "metadata": {},
   "outputs": [],
   "source": [
    "#Converting response in dictionary\n",
    "data_dict=response.json()"
   ]
  },
  {
   "cell_type": "code",
   "execution_count": 10,
   "id": "3a09cb40",
   "metadata": {},
   "outputs": [
    {
     "data": {
      "text/plain": [
       "dict"
      ]
     },
     "execution_count": 10,
     "metadata": {},
     "output_type": "execute_result"
    }
   ],
   "source": [
    "#Checking type of the return data\n",
    "type(data_dict)"
   ]
  },
  {
   "cell_type": "code",
   "execution_count": 11,
   "id": "7631e9e0",
   "metadata": {
    "scrolled": true
   },
   "outputs": [
    {
     "data": {
      "text/plain": [
       "dict_keys(['businesses', 'total', 'region'])"
      ]
     },
     "execution_count": 11,
     "metadata": {},
     "output_type": "execute_result"
    }
   ],
   "source": [
    "#What are main keys?\n",
    "data_dict.keys()"
   ]
  },
  {
   "cell_type": "code",
   "execution_count": 12,
   "id": "4914a8ed",
   "metadata": {},
   "outputs": [
    {
     "name": "stdout",
     "output_type": "stream",
     "text": [
      "<class 'list'>\n",
      "<class 'dict'>\n"
     ]
    }
   ],
   "source": [
    "#Businesses is a list of dictionaries and each individual dictionary represent a business\n",
    "print (type(data_dict['businesses']) )\n",
    "print (type(data_dict['businesses'][0]) )"
   ]
  },
  {
   "cell_type": "code",
   "execution_count": 13,
   "id": "bf633db0",
   "metadata": {},
   "outputs": [
    {
     "data": {
      "text/plain": [
       "{'id': 'b9Ctxco-1HyjE55W_28MYA',\n",
       " 'alias': 'himalayan-coffee-house-toronto-2',\n",
       " 'name': 'Himalayan Coffee House',\n",
       " 'image_url': 'https://s3-media4.fl.yelpcdn.com/bphoto/pdZXiBAwPgXOgkzMXO9kgQ/o.jpg',\n",
       " 'is_closed': False,\n",
       " 'url': 'https://www.yelp.com/biz/himalayan-coffee-house-toronto-2?adjust_creative=V0o2j3ytyMMUE-fB7S4BTQ&utm_campaign=yelp_api_v3&utm_medium=api_v3_business_search&utm_source=V0o2j3ytyMMUE-fB7S4BTQ',\n",
       " 'review_count': 155,\n",
       " 'categories': [{'alias': 'coffee', 'title': 'Coffee & Tea'}],\n",
       " 'rating': 4.5,\n",
       " 'coordinates': {'latitude': 43.71336, 'longitude': -79.4},\n",
       " 'transactions': [],\n",
       " 'price': '$',\n",
       " 'location': {'address1': '2552 Yonge Street',\n",
       "  'address2': '',\n",
       "  'address3': '',\n",
       "  'city': 'Toronto',\n",
       "  'zip_code': 'M4P 2J2',\n",
       "  'country': 'CA',\n",
       "  'state': 'ON',\n",
       "  'display_address': ['2552 Yonge Street', 'Toronto, ON M4P 2J2', 'Canada']},\n",
       " 'phone': '+14164856464',\n",
       " 'display_phone': '+1 416-485-6464',\n",
       " 'distance': 1954.9169469231715}"
      ]
     },
     "execution_count": 13,
     "metadata": {},
     "output_type": "execute_result"
    }
   ],
   "source": [
    "#what is first business? \n",
    "data_dict['businesses'][0]"
   ]
  },
  {
   "cell_type": "code",
   "execution_count": 14,
   "id": "8c259566",
   "metadata": {},
   "outputs": [],
   "source": [
    "df=pd.Series((data_dict['businesses'][0]))"
   ]
  },
  {
   "cell_type": "code",
   "execution_count": 15,
   "id": "87a3fcf6",
   "metadata": {},
   "outputs": [
    {
     "name": "stdout",
     "output_type": "stream",
     "text": [
      "id                                          b9Ctxco-1HyjE55W_28MYA\n",
      "alias                             himalayan-coffee-house-toronto-2\n",
      "name                                        Himalayan Coffee House\n",
      "image_url        https://s3-media4.fl.yelpcdn.com/bphoto/pdZXiB...\n",
      "is_closed                                                    False\n",
      "url              https://www.yelp.com/biz/himalayan-coffee-hous...\n",
      "review_count                                                   155\n",
      "categories          [{'alias': 'coffee', 'title': 'Coffee & Tea'}]\n",
      "rating                                                         4.5\n",
      "coordinates             {'latitude': 43.71336, 'longitude': -79.4}\n",
      "transactions                                                    []\n",
      "price                                                            $\n",
      "location         {'address1': '2552 Yonge Street', 'address2': ...\n",
      "phone                                                 +14164856464\n",
      "display_phone                                      +1 416-485-6464\n",
      "distance                                               1954.916947\n",
      "dtype: object\n"
     ]
    }
   ],
   "source": [
    "print(df)\n"
   ]
  },
  {
   "cell_type": "markdown",
   "id": "c08c5b55",
   "metadata": {},
   "source": [
    "# Doing another API request to find Cafes in NYC"
   ]
  },
  {
   "cell_type": "code",
   "execution_count": 42,
   "id": "aa6025a7",
   "metadata": {},
   "outputs": [],
   "source": [
    "# Create dictionary to query API for cafes in NYC\n",
    "parameters = {'term':'cafe',\n",
    "          \t  'location':'NYC',\n",
    "               'sort_by': 'rating'}\n"
   ]
  },
  {
   "cell_type": "code",
   "execution_count": 43,
   "id": "c19b2832",
   "metadata": {},
   "outputs": [],
   "source": [
    "response_nyc = requests.get(search_api_url, headers=headers, params=parameters, timeout=5)"
   ]
  },
  {
   "cell_type": "code",
   "execution_count": 44,
   "id": "1569313f",
   "metadata": {},
   "outputs": [],
   "source": [
    "# Extract JSON data from the response\n",
    "data_nyc = response_nyc.json()\n"
   ]
  },
  {
   "cell_type": "code",
   "execution_count": 45,
   "id": "70f4b26b",
   "metadata": {},
   "outputs": [],
   "source": [
    "# Load data to a dataframe\n",
    "cafes = pd.DataFrame(data_nyc['businesses'])"
   ]
  },
  {
   "cell_type": "code",
   "execution_count": 47,
   "id": "d31fd3c4",
   "metadata": {},
   "outputs": [
    {
     "name": "stdout",
     "output_type": "stream",
     "text": [
      "                       id                              alias  \\\n",
      "0  USWkf_B93v_8e2K4mh0yiw  ariston-flowers-and-cafe-new-york   \n",
      "1  bJDU8KNLQMrZG0Ngs4AY0w                 le-phin-new-york-2   \n",
      "2  S4mRsE_WwHfZj1cfZWUg6g                   paquita-new-york   \n",
      "3  C9mE4FfzF56wttmakkwcNQ                     talea-brooklyn   \n",
      "4  VLC2DROxvGX-ka_aBmJN9w         social-house-cafe-brooklyn   \n",
      "\n",
      "                     name                                          image_url  \\\n",
      "0  Ariston Flowers & Cafe  https://s3-media1.fl.yelpcdn.com/bphoto/PkwVw0...   \n",
      "1                 Le Phin  https://s3-media3.fl.yelpcdn.com/bphoto/9ASzwJ...   \n",
      "2                 Paquita  https://s3-media1.fl.yelpcdn.com/bphoto/-zENBT...   \n",
      "3                   TALEA  https://s3-media3.fl.yelpcdn.com/bphoto/XOs2v9...   \n",
      "4       Social House Cafe  https://s3-media2.fl.yelpcdn.com/bphoto/yRO3_u...   \n",
      "\n",
      "   is_closed                                                url  review_count  \\\n",
      "0      False  https://www.yelp.com/biz/ariston-flowers-and-c...             8   \n",
      "1      False  https://www.yelp.com/biz/le-phin-new-york-2?ad...            76   \n",
      "2      False  https://www.yelp.com/biz/paquita-new-york?adju...            15   \n",
      "3      False  https://www.yelp.com/biz/talea-brooklyn?adjust...            19   \n",
      "4      False  https://www.yelp.com/biz/social-house-cafe-bro...            22   \n",
      "\n",
      "                                          categories  rating  \\\n",
      "0  [{'alias': 'coffee', 'title': 'Coffee & Tea'},...     5.0   \n",
      "1     [{'alias': 'coffee', 'title': 'Coffee & Tea'}]     5.0   \n",
      "2  [{'alias': 'tea', 'title': 'Tea Rooms'}, {'ali...     5.0   \n",
      "3  [{'alias': 'bars', 'title': 'Bars'}, {'alias':...     5.0   \n",
      "4  [{'alias': 'coffee', 'title': 'Coffee & Tea'},...     5.0   \n",
      "\n",
      "         transactions  ... coordinates_longitude location_address1  \\\n",
      "0                  []  ...            -73.994181        78 5th Ave   \n",
      "1                  []  ...            -73.983414     259 E 10th St   \n",
      "2                  []  ...            -74.005711     242 W 10th St   \n",
      "3                  []  ...            -73.990880      61 Bergen St   \n",
      "4  [pickup, delivery]  ...            -73.966014       60 Broadway   \n",
      "\n",
      "   location_address2  location_address3  location_city location_zip_code  \\\n",
      "0                                  None       New York             10011   \n",
      "1               None                          New York             10009   \n",
      "2                                  None       New York             10014   \n",
      "3               None                          Brooklyn             11201   \n",
      "4               None                          Brooklyn             11249   \n",
      "\n",
      "  location_country location_state             location_display_address price  \n",
      "0               US             NY     [78 5th Ave, New York, NY 10011]   NaN  \n",
      "1               US             NY  [259 E 10th St, New York, NY 10009]    $$  \n",
      "2               US             NY  [242 W 10th St, New York, NY 10014]   NaN  \n",
      "3               US             NY   [61 Bergen St, Brooklyn, NY 11201]   NaN  \n",
      "4               US             NY    [60 Broadway, Brooklyn, NY 11249]   NaN  \n",
      "\n",
      "[5 rows x 24 columns]\n"
     ]
    },
    {
     "name": "stderr",
     "output_type": "stream",
     "text": [
      "C:\\Users\\komal\\AppData\\Local\\Temp\\ipykernel_14872\\3390289619.py:9: FutureWarning: pandas.io.json.json_normalize is deprecated, use pandas.json_normalize instead.\n",
      "  cafes = json_normalize(data_nyc[\"businesses\"],\n"
     ]
    }
   ],
   "source": [
    "# To flatten nested data\n",
    "# Load json_normalize()\n",
    "from pandas.io.json import json_normalize\n",
    "\n",
    "# Isolate the JSON data from the API response\n",
    "data_nyc = response_nyc.json()\n",
    "\n",
    "# Flatten business data into a dataframe, replace separator\n",
    "cafes = json_normalize(data_nyc[\"businesses\"],\n",
    "             sep='_')\n",
    "\n",
    "# View data\n",
    "print(cafes.head())\n"
   ]
  },
  {
   "cell_type": "code",
   "execution_count": 48,
   "id": "a2f2b16c",
   "metadata": {},
   "outputs": [],
   "source": [
    "# we see categories is further nested, we will use record_path settings\n",
    "# Load other business attributes and set meta prefix\n",
    "top_50_cafes = pd.json_normalize(data_nyc[\"businesses\"],\n",
    "                            sep=\"_\",\n",
    "                    \t\trecord_path=\"categories\",\n",
    "                    \t\tmeta=[\"name\", \n",
    "                                  \"alias\",  \n",
    "                                  \"rating\",\n",
    "                          \t\t  [\"coordinates\",\"latitude\" ], \n",
    "                          \t\t  [\"coordinates\",\"longitude\"]],\n",
    "                    \t\tmeta_prefix=\"biz_\")\n",
    "\n"
   ]
  },
  {
   "cell_type": "code",
   "execution_count": 50,
   "id": "b7b61a9f",
   "metadata": {},
   "outputs": [
    {
     "name": "stdout",
     "output_type": "stream",
     "text": [
      "       alias         title                biz_name  \\\n",
      "0     coffee  Coffee & Tea  Ariston Flowers & Cafe   \n",
      "1   florists      Florists  Ariston Flowers & Cafe   \n",
      "2     coffee  Coffee & Tea                 Le Phin   \n",
      "3        tea     Tea Rooms                 Paquita   \n",
      "4   antiques      Antiques                 Paquita   \n",
      "5     coffee  Coffee & Tea                 Paquita   \n",
      "6       bars          Bars                   TALEA   \n",
      "7     coffee  Coffee & Tea                   TALEA   \n",
      "8  breweries     Breweries                   TALEA   \n",
      "9     coffee  Coffee & Tea       Social House Cafe   \n",
      "\n",
      "                           biz_alias biz_rating biz_coordinates_latitude  \\\n",
      "0  ariston-flowers-and-cafe-new-york        5.0                40.735796   \n",
      "1  ariston-flowers-and-cafe-new-york        5.0                40.735796   \n",
      "2                 le-phin-new-york-2        5.0                40.728603   \n",
      "3                   paquita-new-york        5.0                40.733677   \n",
      "4                   paquita-new-york        5.0                40.733677   \n",
      "5                   paquita-new-york        5.0                40.733677   \n",
      "6                     talea-brooklyn        5.0                40.687138   \n",
      "7                     talea-brooklyn        5.0                40.687138   \n",
      "8                     talea-brooklyn        5.0                40.687138   \n",
      "9         social-house-cafe-brooklyn        5.0                40.710297   \n",
      "\n",
      "  biz_coordinates_longitude  \n",
      "0                -73.994181  \n",
      "1                -73.994181  \n",
      "2                -73.983414  \n",
      "3                -74.005711  \n",
      "4                -74.005711  \n",
      "5                -74.005711  \n",
      "6                 -73.99088  \n",
      "7                 -73.99088  \n",
      "8                 -73.99088  \n",
      "9                -73.966014  \n"
     ]
    }
   ],
   "source": [
    "# View the data\n",
    "print(top_50_cafes.head(10))\n"
   ]
  },
  {
   "cell_type": "code",
   "execution_count": 39,
   "id": "c0f5041e",
   "metadata": {},
   "outputs": [],
   "source": [
    "# Add an offset parameter to get cafes 51-100\n",
    "params = {\"term\": \"cafe\", \n",
    "          \"location\": \"NYC\",\n",
    "          \"sort_by\": \"rating\", \n",
    "          \"limit\": 50,\n",
    "          \"offset\": 50}"
   ]
  },
  {
   "cell_type": "code",
   "execution_count": 54,
   "id": "767ab7ce",
   "metadata": {},
   "outputs": [],
   "source": [
    "result = requests.get(search_api_url, headers=headers, params=params)\n",
    "next_50_cafes = pd.json_normalize(result.json()[\"businesses\"])"
   ]
  },
  {
   "cell_type": "code",
   "execution_count": 63,
   "id": "fe055fe7",
   "metadata": {},
   "outputs": [
    {
     "name": "stdout",
     "output_type": "stream",
     "text": [
      "alias                         object\n",
      "title                         object\n",
      "biz_name                      object\n",
      "biz_alias                     object\n",
      "biz_rating                    object\n",
      "biz_coordinates_latitude      object\n",
      "biz_coordinates_longitude     object\n",
      "id                            object\n",
      "name                          object\n",
      "image_url                     object\n",
      "is_closed                     object\n",
      "url                           object\n",
      "review_count                 float64\n",
      "categories                    object\n",
      "rating                       float64\n",
      "transactions                  object\n",
      "phone                         object\n",
      "display_phone                 object\n",
      "distance                     float64\n",
      "coordinates.latitude         float64\n",
      "coordinates.longitude        float64\n",
      "location.address1             object\n",
      "location.address2             object\n",
      "location.address3             object\n",
      "location.city                 object\n",
      "location.zip_code             object\n",
      "location.country              object\n",
      "location.state                object\n",
      "location.display_address      object\n",
      "price                         object\n",
      "dtype: object\n"
     ]
    }
   ],
   "source": [
    "# Append the results, setting ignore_index to renumber rows\n",
    "cafes = pd.concat([top_50_cafes,next_50_cafes], ignore_index=True)\n",
    "\n",
    "#cafes = top_50_cafes.append(next_50_cafes, ignore_index=True)\n",
    "# Print shape of cafes\n",
    "print(cafes.dtypes)\n"
   ]
  }
 ],
 "metadata": {
  "kernelspec": {
   "display_name": "Python 3 (ipykernel)",
   "language": "python",
   "name": "python3"
  },
  "language_info": {
   "codemirror_mode": {
    "name": "ipython",
    "version": 3
   },
   "file_extension": ".py",
   "mimetype": "text/x-python",
   "name": "python",
   "nbconvert_exporter": "python",
   "pygments_lexer": "ipython3",
   "version": "3.9.13"
  }
 },
 "nbformat": 4,
 "nbformat_minor": 5
}
